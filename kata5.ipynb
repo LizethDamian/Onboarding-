{
 "cells": [
  {
   "cell_type": "code",
   "execution_count": 1,
   "metadata": {},
   "outputs": [
    {
     "name": "stdout",
     "output_type": "stream",
     "text": [
      "La distancia es: 78300000 en km\n",
      "La distancia en millas es: 48624300.0\n"
     ]
    }
   ],
   "source": [
    "nombreusuario = input('¿Cual es tu nombre?  ')\n",
    "primerplaneta = input('Favor de ingresar el nombre del primer planeta: ')\n",
    "primerdistancia = input('Favor de ingresar la distancia al sol del primer planeta: ')\n",
    "segundoplaneta = input('Favor de ingresar el nombre del segundo planeta: ')\n",
    "segundodistancia = input('Favor de ingresar la distancia al sol del segundo planeta: ')\n",
    "\n",
    "distanciauno = int(primerdistancia)\n",
    "distanciados = int(segundodistancia)\n",
    "\n",
    "diferencia = abs(distanciauno-distanciados)\n",
    "millas = diferencia*0.621\n",
    "print(f'La distancia es: {diferencia} en km')\n",
    "print(f'La distancia en millas es: {millas}')"
   ]
  }
 ],
 "metadata": {
  "interpreter": {
   "hash": "9e0e21defcb8e38207790d451b671321895a93cb4ef1c90960a2597e02e49c93"
  },
  "kernelspec": {
   "display_name": "Python 3.7.7 64-bit",
   "language": "python",
   "name": "python3"
  },
  "language_info": {
   "codemirror_mode": {
    "name": "ipython",
    "version": 3
   },
   "file_extension": ".py",
   "mimetype": "text/x-python",
   "name": "python",
   "nbconvert_exporter": "python",
   "pygments_lexer": "ipython3",
   "version": "3.7.7"
  },
  "orig_nbformat": 4
 },
 "nbformat": 4,
 "nbformat_minor": 2
}
