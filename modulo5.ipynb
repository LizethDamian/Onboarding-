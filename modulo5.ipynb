{
 "cells": [
  {
   "cell_type": "markdown",
   "metadata": {},
   "source": [
    "## Modulo 5\n",
    "Operadores matematicos \n",
    "Orden de las operaciones \n",
    "Como convertir cadenas en numeros "
   ]
  },
  {
   "cell_type": "markdown",
   "metadata": {},
   "source": [
    "## OPERADORES DE PYTHON "
   ]
  },
  {
   "cell_type": "code",
   "execution_count": null,
   "metadata": {},
   "outputs": [],
   "source": [
    "#Suma \n",
    "answer = 30 + 12\n",
    "print(answer)\n",
    "\n",
    "#Resta \n",
    "difference = 30 - 12\n",
    "print(difference)\n",
    "\n",
    "#Multiplicacion \n",
    "product = 30 * 12\n",
    "print(product)\n",
    "\n",
    "#Division \n",
    "quotient = 30 / 12\n",
    "print(quotient)"
   ]
  },
  {
   "cell_type": "code",
   "execution_count": null,
   "metadata": {},
   "outputs": [],
   "source": [
    "#En la division cuando queremos solo el numero entero se utiliza //\n",
    "seconds = 1042\n",
    "display_minutes = 1042 // 60 #En esta el resultado es con enteros \n",
    "display = 1042 / 60 #En esta los resultados son con decimales \n",
    "print(display_minutes)\n",
    "print(display)"
   ]
  },
  {
   "cell_type": "code",
   "execution_count": null,
   "metadata": {},
   "outputs": [],
   "source": [
    "#Modulo \n",
    "#Cuando utilizas modulo el resultado sera el RESTO de la division \n",
    "seconds = 1042\n",
    "display_minutes = 1042 // 60\n",
    "display_seconds = 1042 % 60\n",
    "display_prueba = 1%1 \n",
    "\n",
    "print(display_minutes)\n",
    "print(display_seconds) \n",
    "print(display_prueba) #Se imprimira un 0 porque los restos de la division de 1/1 es 0"
   ]
  },
  {
   "cell_type": "markdown",
   "metadata": {},
   "source": [
    "## ORDEN DE FUNCIONAMIENTO \n",
    "\n",
    "1. Parentesis \n",
    "\n",
    "2. Exponentes\n",
    "\n",
    "3. Multiplicacion y Division \n",
    "\n",
    "4. Suma y Resta"
   ]
  },
  {
   "cell_type": "code",
   "execution_count": null,
   "metadata": {},
   "outputs": [],
   "source": [
    "result_1 = 1032 + 26 * 2      #Podemos observar que en ambos el resultado es 1084 debido a que python respeta el \n",
    "result_2 = 1032 + (26 * 2)     #orden jerarquico\n",
    "result_3 = ((4*6) + ((6+8*3)-(4+3)))   \n",
    "print(result_1)\n",
    "print(result_2)\n",
    "print(result_3)"
   ]
  },
  {
   "cell_type": "markdown",
   "metadata": {},
   "source": [
    "Cadenas a numeros "
   ]
  },
  {
   "cell_type": "code",
   "execution_count": null,
   "metadata": {},
   "outputs": [],
   "source": [
    "#Podemos tener dos tipos; int: son numeros enteros float: numeros decimales \n",
    "demo_int = int('215')\n",
    "print(demo_int)\n",
    "demo_float = float('215.3')\n",
    "print(demo_float)"
   ]
  },
  {
   "cell_type": "code",
   "execution_count": null,
   "metadata": {},
   "outputs": [],
   "source": [
    "# Valores absolutos\n",
    "# Los valores absolutos son numeros que no toman en cuenta el signo \n",
    "a = 39 - 16\n",
    "b = 16 - 39\n",
    "print(a)\n",
    "print(b)\n",
    "print(abs(39 - 16))\n",
    "print(abs(16 - 39)) "
   ]
  },
  {
   "cell_type": "code",
   "execution_count": null,
   "metadata": {},
   "outputs": [],
   "source": [
    "#Redondeo \n",
    "print(round(14.5))\n",
    "print(round(14.4))\n",
    "print(round(14.6))\n",
    "\n",
    "#Tambien podemos usar la libreria Math \n",
    "#Una de las funciones de Math se puede usar para redondear como lo es ceil y floor\n",
    "\n",
    "from math import ceil, floor\n",
    "\n",
    "round_up = ceil(12.5) #Usamos ceil para redondear un numero mas cercano hacia arriba \n",
    "print(round_up)\n",
    "\n",
    "round_down = floor(12.5) #Usamos floor para redondear al numero mas cercano hacia abajo \n",
    "print(round_down)"
   ]
  }
 ],
 "metadata": {
  "interpreter": {
   "hash": "9e0e21defcb8e38207790d451b671321895a93cb4ef1c90960a2597e02e49c93"
  },
  "kernelspec": {
   "display_name": "Python 3.7.7 64-bit",
   "language": "python",
   "name": "python3"
  },
  "language_info": {
   "codemirror_mode": {
    "name": "ipython",
    "version": 3
   },
   "file_extension": ".py",
   "mimetype": "text/x-python",
   "name": "python",
   "nbconvert_exporter": "python",
   "pygments_lexer": "ipython3",
   "version": "3.7.7"
  },
  "orig_nbformat": 4
 },
 "nbformat": 4,
 "nbformat_minor": 2
}
