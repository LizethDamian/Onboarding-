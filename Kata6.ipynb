{
 "cells": [
  {
   "cell_type": "code",
   "execution_count": 2,
   "metadata": {},
   "outputs": [
    {
     "name": "stdout",
     "output_type": "stream",
     "text": [
      "Estos son los planetas mas cercanos al sol  Neptune\n",
      "['Mercury', 'Venus', 'Earth', 'Mars', 'Jupiter', 'Saturn']\n",
      "Estos son los planetas mas lejanos al sol: Neptune\n",
      "['Neptune']\n"
     ]
    }
   ],
   "source": [
    "planets = ['Mercury', 'Venus', 'Earth', 'Mars', 'Jupiter', 'Saturn', 'Neptune']\n",
    "nombreP = input(\"Favor de ingresar el nombre de un planeta \\n(recuerde ingresar la primera letra en mayuscula): \")\n",
    "\n",
    "enontrarplaneta = planets.index(nombreP)\n",
    "\n",
    "print('Estos son los planetas mas cercanos al sol  ' + nombreP)\n",
    "print(planets[0:enontrarplaneta])\n",
    "print(\"Estos son los planetas mas lejanos al sol: \" + nombreP)\n",
    "print(planets[enontrarplaneta:])"
   ]
  }
 ],
 "metadata": {
  "interpreter": {
   "hash": "9e0e21defcb8e38207790d451b671321895a93cb4ef1c90960a2597e02e49c93"
  },
  "kernelspec": {
   "display_name": "Python 3.7.7 64-bit",
   "language": "python",
   "name": "python3"
  },
  "language_info": {
   "codemirror_mode": {
    "name": "ipython",
    "version": 3
   },
   "file_extension": ".py",
   "mimetype": "text/x-python",
   "name": "python",
   "nbconvert_exporter": "python",
   "pygments_lexer": "ipython3",
   "version": "3.7.7"
  },
  "orig_nbformat": 4
 },
 "nbformat": 4,
 "nbformat_minor": 2
}
